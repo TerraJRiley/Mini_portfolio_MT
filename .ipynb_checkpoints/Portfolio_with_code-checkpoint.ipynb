{
 "cells": [
  {
   "cell_type": "markdown",
   "metadata": {},
   "source": [
    "### De-duplication of data (model: DemandTools)\n",
    "In my Capstone, I set up code such that it would identify which videos boths channels had talked about, matched them and then went out to get the comments for those videos. A summary of this process can be found [here](https://github.com/TerraJRiley/Youtube_Comments/blob/master/Data_obtainment_code_for_viewing.ipynb).\n",
    "\n",
    "Also, in Toxic Watch Project I’ve set it up to avoid redundancies within the current Scrapings. "
   ]
  },
  {
   "cell_type": "markdown",
   "metadata": {},
   "source": [
    "### Automate classifying contracts by the type of purchase using North American Industry Classification System (NAICS) code.  This has previously been done by querying text fields for keywords\n",
    "I have performed a number of classification models, but am curious to learn more about the NAICS."
   ]
  },
  {
   "cell_type": "markdown",
   "metadata": {},
   "source": [
    "### A crawler application to search various non-standard websites for ethnicity, gender, and maintain the sources of such data (model: import.io)\n",
    "I’ve done web scraping via a number of sites including the Overwatch Forums, wikipedia pages, Seeking Alpha and Amazon with a number of tools including the requests, beautiful soup and selenium python libraries as well as dexi.io."
   ]
  },
  {
   "cell_type": "markdown",
   "metadata": {},
   "source": [
    "### Automate generation of a data quality report detailing consistency, completeness, accuracy, and missing variables\n",
    "In addition to "
   ]
  },
  {
   "cell_type": "markdown",
   "metadata": {},
   "source": [
    "### Automate matching field headers from various sources to the field headers in company database\n",
    "Before deciding to shelve a specific project I was developing a system (for that project) to automatically sort various different ways to say state the same value.  I was doing this by creating a dictionary that would use the keys as the various ways that people have stated something and the values as the way that we wanted it to be stated.  I would add any new values that I came across as the I would then use this dictionary as a reference "
   ]
  },
  {
   "cell_type": "markdown",
   "metadata": {},
   "source": [
    "### Automated and dynamic reports/dashboards. A summary report listing the most reliable “winner” variables (for each contractor or contract) but maintain all other variables in a master database.  Example: if a contractor’s race is identified from 10 sources, but only one source is reliable. The one reliable source is used for the analysis and the nine non-reliable sources are housed in a master database. The report would identify the winner and all losers.\n",
    "\n",
    "An example of my EDA work can be found [here](https://github.com/TerraJRiley/Client_Contact_Month/blob/master/Spreadsheet_Analysis_Response.ipynb)\n",
    "I have also used AWS primarily for my Toxic Watch project and used code to update a dataframe table after every run of a Machine learning model to keep an eye on my progress as I've tuned with different features. "
   ]
  },
  {
   "cell_type": "code",
   "execution_count": null,
   "metadata": {},
   "outputs": [],
   "source": []
  }
 ],
 "metadata": {
  "kernelspec": {
   "display_name": "Python 3",
   "language": "python",
   "name": "python3"
  },
  "language_info": {
   "codemirror_mode": {
    "name": "ipython",
    "version": 3
   },
   "file_extension": ".py",
   "mimetype": "text/x-python",
   "name": "python",
   "nbconvert_exporter": "python",
   "pygments_lexer": "ipython3",
   "version": "3.7.0"
  }
 },
 "nbformat": 4,
 "nbformat_minor": 2
}
